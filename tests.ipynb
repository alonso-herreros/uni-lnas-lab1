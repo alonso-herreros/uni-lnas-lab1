{
 "cells": [
  {
   "cell_type": "code",
   "execution_count": 1,
   "metadata": {},
   "outputs": [],
   "source": [
    "from sympy import *"
   ]
  },
  {
   "cell_type": "code",
   "execution_count": 29,
   "metadata": {},
   "outputs": [],
   "source": [
    "Vg = Symbol(\"V_g\")\n",
    "ω = Symbol(\"ω\")\n",
    "R = Symbol(\"R\")\n",
    "C = Symbol(\"C\")\n",
    "Rl = Symbol(\"R_L\")\n",
    "I1 = Symbol(\"I_1\")\n",
    "I2 = Symbol(\"I_2\")\n",
    "I3 = Symbol(\"I_3\")\n",
    "\n",
    "V_ = Symbol(\"V_+\") # + input of OpAmp\n",
    "alias = {V_: (I1-I2)*1/(1j*ω*C)}\n",
    "\n",
    "values = {\n",
    "    Vg: 5,\n",
    "    ω: 1e3,\n",
    "    R: 1e3,\n",
    "    C: 10e-6,\n",
    "    Rl: 100\n",
    "}"
   ]
  },
  {
   "cell_type": "code",
   "execution_count": 44,
   "metadata": {},
   "outputs": [
    {
     "data": {
      "text/latex": [
       "$\\displaystyle V_{g} = I_{1} \\cdot \\left(2 R - \\frac{1.0 i}{C ω}\\right) - I_{2} \\left(R - \\frac{1.0 i}{C ω}\\right)$"
      ],
      "text/plain": [
       "Eq(V_g, I_1*(2*R - 1.0*I/(C*ω)) - I_2*(R - 1.0*I/(C*ω)))"
      ]
     },
     "metadata": {},
     "output_type": "display_data"
    },
    {
     "data": {
      "text/latex": [
       "$\\displaystyle 0 = - I_{1} R + I_{2} \\left(R - \\frac{1.0 i}{C ω}\\right)$"
      ],
      "text/plain": [
       "Eq(0, -I_1*R + I_2*(R - 1.0*I/(C*ω)))"
      ]
     },
     "metadata": {},
     "output_type": "display_data"
    },
    {
     "data": {
      "text/latex": [
       "$\\displaystyle 0 = I_{3} R_{L} + \\frac{1.0 i I_{1}}{C ω} - \\frac{1.0 i I_{2}}{C ω}$"
      ],
      "text/plain": [
       "Eq(0, I_3*R_L + 1.0*I*I_1/(C*ω) - 1.0*I*I_2/(C*ω))"
      ]
     },
     "metadata": {},
     "output_type": "display_data"
    },
    {
     "name": "stdout",
     "output_type": "stream",
     "text": [
      "Mesh 1 consistent: True\n",
      "Mesh 2 consistent: True\n",
      "Mesh 3 consistent: True\n"
     ]
    }
   ],
   "source": [
    "mesh1_orig = Eq(Vg, I1*R + (I1-I2)*R + (I1-I2)*1/(1j*ω*C) )\n",
    "mesh1 = Eq(Vg, I1*(2*R + 1/(1j*ω*C)) - I2*(R + 1/(1j*ω*C)) ) # checked\n",
    "mesh2_orig = Eq(0, (I2-I1)*(R+1/(1j*ω*C)) + I2*1/(1j*ω*C) + V_)\n",
    "mesh2 = Eq(0, -I1*(R) + I2*(R + 1/(1j*ω*C)))\n",
    "mesh3_orig = Eq(0, I3*Rl - V_)\n",
    "mesh3 = Eq(0, -I1*(1/(1j*ω*C)) + I2*(1/(1j*ω*C)) + I3*Rl)\n",
    "\n",
    "display(mesh1, mesh2, mesh3)\n",
    "print(f\"Mesh 1 consistent: {mesh1.equals(mesh1_orig)}\")\n",
    "print(f\"Mesh 2 consistent: {mesh2.equals(mesh2_orig.subs(alias))}\")\n",
    "print(f\"Mesh 3 consistent: {mesh3.equals(mesh3_orig.subs(alias))}\")"
   ]
  },
  {
   "cell_type": "code",
   "execution_count": 4,
   "metadata": {},
   "outputs": [
    {
     "data": {
      "text/latex": [
       "$\\displaystyle 1.0 R^{2} R_{L} - \\frac{2.0 i R R_{L}}{C ω} - \\frac{1.0 R_{L}}{C^{2} ω^{2}}$"
      ],
      "text/plain": [
       "1.0*R**2*R_L - 2.0*I*R*R_L/(C*ω) - 1.0*R_L/(C**2*ω**2)"
      ]
     },
     "execution_count": 4,
     "metadata": {},
     "output_type": "execute_result"
    }
   ],
   "source": [
    "coefficients = Matrix([ \n",
    "    [2*R + 1/(1j*ω*C), -R - 1/(1j*ω*C), 0],\n",
    "    [-R, R + 1/(1j*ω*C), 0],\n",
    "    [-1/(1j*ω*C), 1/(1j*ω*C), Rl]\n",
    "])\n",
    "coefficients.det().simplify()"
   ]
  },
  {
   "cell_type": "code",
   "execution_count": 5,
   "metadata": {},
   "outputs": [
    {
     "data": {
      "text/latex": [
       "$\\displaystyle \\left[\\begin{matrix}\\frac{C V_{g} ω}{C R ω - i}\\\\\\frac{C^{2} R V_{g} ω^{2}}{C^{2} R^{2} ω^{2} - 2.0 i C R ω - 1.0}\\\\- \\frac{V_{g}}{C^{2} R^{2} R_{L} ω^{2} - 2.0 i C R R_{L} ω - R_{L}}\\end{matrix}\\right]$"
      ],
      "text/plain": [
       "Matrix([\n",
       "[                                 C*V_g*ω/(C*R*ω - I)],\n",
       "[C**2*R*V_g*ω**2/(C**2*R**2*ω**2 - 2.0*I*C*R*ω - 1.0)],\n",
       "[   -V_g/(C**2*R**2*R_L*ω**2 - 2.0*I*C*R*R_L*ω - R_L)]])"
      ]
     },
     "execution_count": 5,
     "metadata": {},
     "output_type": "execute_result"
    }
   ],
   "source": [
    "I_dict = solve([mesh1, mesh2, mesh3], [I1, I2, I3])\n",
    "I = Matrix([I_dict[I1], I_dict[I2], I_dict[I3]])\n",
    "I"
   ]
  },
  {
   "cell_type": "code",
   "execution_count": 22,
   "metadata": {},
   "outputs": [
    {
     "name": "stdout",
     "output_type": "stream",
     "text": [
      "Determinant of coefficients:\n"
     ]
    },
    {
     "data": {
      "text/latex": [
       "$\\displaystyle 1.0 R^{2} R_{L} - \\frac{2.0 i R R_{L}}{C ω} - \\frac{1.0 R_{L}}{C^{2} ω^{2}}$"
      ],
      "text/plain": [
       "1.0*R**2*R_L - 2.0*I*R*R_L/(C*ω) - 1.0*R_L/(C**2*ω**2)"
      ]
     },
     "metadata": {},
     "output_type": "display_data"
    },
    {
     "name": "stdout",
     "output_type": "stream",
     "text": [
      "Manually computed solution:\n"
     ]
    },
    {
     "data": {
      "text/latex": [
       "$\\displaystyle \\left[\\begin{matrix}\\frac{V_{g}}{R - \\frac{1.0 i}{C ω}}\\\\\\frac{R V_{g}}{\\left(R - \\frac{1.0 i}{C ω}\\right)^{2}}\\\\\\frac{V_{g}}{R_{L} \\left(1.0 i C R ω + 1\\right)^{2}}\\end{matrix}\\right]$"
      ],
      "text/plain": [
       "Matrix([\n",
       "[         V_g/(R - 1.0*I/(C*ω))],\n",
       "[    R*V_g/(R - 1.0*I/(C*ω))**2],\n",
       "[V_g/(R_L*(1.0*I*C*R*ω + 1)**2)]])"
      ]
     },
     "metadata": {},
     "output_type": "display_data"
    },
    {
     "name": "stdout",
     "output_type": "stream",
     "text": [
      "Manual solution is equivalent: True\n"
     ]
    }
   ],
   "source": [
    "coefficients = Matrix([ \n",
    "    [2*R + 1/(1j*ω*C), -R - 1/(1j*ω*C), 0],\n",
    "    [-R, R + 1/(1j*ω*C), 0],\n",
    "    [-1/(1j*ω*C), 1/(1j*ω*C), Rl]\n",
    "])\n",
    "print(\"Determinant of coefficients:\")\n",
    "display(coefficients.det().simplify())\n",
    "\n",
    "I_manual = Matrix([\n",
    "    [Vg * 1/(R + 1/(1j*ω*C))],\n",
    "    [Vg * R/(R+1/(1j*ω*C))**2],\n",
    "    [Vg * 1/(Rl * (1 + 1j*ω*C*R)**2)]\n",
    "])\n",
    "print(\"Manually computed solution:\")\n",
    "display(I_manual)\n",
    "\n",
    "print(f\"Manual solution is equivalent: {I_manual.equals(I)}\")"
   ]
  },
  {
   "cell_type": "code",
   "execution_count": 45,
   "metadata": {},
   "outputs": [
    {
     "data": {
      "text/latex": [
       "$\\displaystyle \\left[\\begin{matrix}0.00497518595104995\\\\0.00495049504950495\\\\0.000495049504950495\\end{matrix}\\right]$"
      ],
      "text/plain": [
       "Matrix([\n",
       "[ 0.00497518595104995],\n",
       "[ 0.00495049504950495],\n",
       "[0.000495049504950495]])"
      ]
     },
     "execution_count": 45,
     "metadata": {},
     "output_type": "execute_result"
    }
   ],
   "source": [
    "maxes = Abs(I.subs(values))\n",
    "maxes"
   ]
  },
  {
   "cell_type": "code",
   "execution_count": 49,
   "metadata": {},
   "outputs": [
    {
     "data": {
      "text/latex": [
       "$\\displaystyle \\frac{1}{\\left(1.0 i C R ω + 1\\right)^{2}}$"
      ],
      "text/plain": [
       "(1.0*I*C*R*ω + 1)**(-2)"
      ]
     },
     "metadata": {},
     "output_type": "display_data"
    },
    {
     "name": "stdout",
     "output_type": "stream",
     "text": [
      "Manual H is equivalent: True\n"
     ]
    }
   ],
   "source": [
    "H = I[2]*Rl/Vg\n",
    "H_manual = 1/(1 + 1j*ω*C*R)**2\n",
    "\n",
    "display(H_manual)\n",
    "print(f\"Manual H is equivalent: {H_manual.equals(H)}\")"
   ]
  }
 ],
 "metadata": {
  "kernelspec": {
   "display_name": "Python 3",
   "language": "python",
   "name": "python3"
  },
  "language_info": {
   "codemirror_mode": {
    "name": "ipython",
    "version": 3
   },
   "file_extension": ".py",
   "mimetype": "text/x-python",
   "name": "python",
   "nbconvert_exporter": "python",
   "pygments_lexer": "ipython3",
   "version": "3.10.10"
  }
 },
 "nbformat": 4,
 "nbformat_minor": 2
}
